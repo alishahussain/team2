{
 "cells": [
  {
   "cell_type": "markdown",
   "metadata": {},
   "source": [
    "---\n",
    "layout: post\n",
    "toc: true\n",
    "title: Binary Logic Plan\n",
    "description: This is Our plan for binary logic\n",
    "courses: { csp: {week: 13} }\n",
    "categories: []\n",
    "permalink: binary-logic\n",
    "type: ccc\n",
    "---"
   ]
  },
  {
   "cell_type": "markdown",
   "metadata": {},
   "source": [
    "# Binary Arcade "
   ]
  },
  {
   "cell_type": "markdown",
   "metadata": {},
   "source": [
    "## Innovation: "
   ]
  },
  {
   "cell_type": "markdown",
   "metadata": {},
   "source": [
    "**Binary Sudoku:**\n",
    "- Grid remains the same (9x9)\n",
    "- Each row/column/subgrid (3x3) must contain unique binary numbers (1, 0)\n",
    "- X's will represent blank cells \n",
    "- Filled cells will include 0 or 1\n",
    "- This will allow the user to try playing a unique sudoku using only 1, 2, and X\n",
    "- Example: \n",
    "\n",
    "\n",
    "                    |1 X X | X 0 X | X X X|\n",
    "                    |X 0 X | X X X | X 1 X|\n",
    "                    |X X 1 | X X 0 | X X X|\n",
    "                    |------+-------+------|\n",
    "                    |0 X X | X X X | 1 X X|\n",
    "                    |X 1 X | X 0 X | X X 1|\n",
    "                    |X X X | 0 X X | X 1 X|\n",
    "                    |------+-------+------|\n",
    "                    |X X X | 1 X X | X 0 X|\n",
    "                    |X X 0 | X X X | 1 X X|\n",
    "                    |X X X | X 1 X | X X 0|"
   ]
  },
  {
   "cell_type": "markdown",
   "metadata": {},
   "source": [
    "**Design Document:**\n",
    "- While playing the games user can learn more about binary and its different functions, for example:\n",
    "\n",
    "- Images are often represented in binary. Each pixel's color can be represented using binary values for the Red, Green, and Blue components (RGB).\n",
    "\n",
    "- Binary arithmetic is used in various mathematical operations, including addition, subtraction, multiplication, and division.\n",
    "\n",
    "- Binary encoding is used in file compression algorithms to reduce the size of files for storage or transmission\n",
    "\n",
    "- More binary functions such as those above can be learned with our games! \n",
    "\n",
    "- This solves the boredom of the users and increases their knowledge of binary. "
   ]
  },
  {
   "cell_type": "markdown",
   "metadata": {},
   "source": [
    "**Feature Checkpoint:**\n",
    ">Sudoku:\n",
    "- The main milestone for this is so that the game fully functions without any errors and engages with the user, examplifying binary through the use of binary digits (0, 1), binary constraints (Restrictions of where these 2 numbers can be placed), and binary visualization for the user"
   ]
  },
  {
   "cell_type": "markdown",
   "metadata": {},
   "source": [
    "**Team Integration/GitHub Issue:**\n",
    "- Add here"
   ]
  },
  {
   "cell_type": "markdown",
   "metadata": {},
   "source": [
    "## Binary Painter Game \n",
    "\n",
    "> a blank canvas of pixels will be provided for the user, as well as a color selection bar. The user will be able to click on the pixels and fill it with color. They will be able to manipulate each pixel's color by toggling individual bits. Each color is represented by a binary code, and users can create intricate patterns and designs by combining different binary values.\n",
    "\n",
    "- some features of the game\n",
    "    - canvas size option: User can pick from a set of canvas sizes; 6x6, 15x15, 25x25, etc\n",
    "    - color selection bar: User can pick from basic color options, or type in their own binary color value to fill in\n",
    "    - manual bit coloring: the user will have the option to manually input their own colors for the pixels\n",
    "\n",
    "> Purpose of the feature?\n",
    "Users will use this game to enjoy making mini artworks, while also learning different functions of binary"
   ]
  },
  {
   "cell_type": "markdown",
   "metadata": {},
   "source": [
    "<img src=\"https://github.com/alishahussain/team2/assets/39902320/d8f7648e-1793-4ae5-a82d-3315079daf22\">"
   ]
  },
  {
   "cell_type": "markdown",
   "metadata": {},
   "source": [
    "## Data Encoding \n",
    "\n",
    "> Users input data in numerical form and the tool encrypts this data into binary form. This step demonstrates that digital information can be encoded using combinations of 0s and 1s (binary). Display how binary digits serve as the foundation for data storage and processing in computer memory. This might be done with a database or a ASCII table.\n",
    "\n",
    "> Example: The Binary code for the letter 'A' is 01000001.\n",
    "So the word \"apple\" in binary would be: \"01100001 01110000 01110000 01101100 01100101\"\n",
    "\n",
    "> Purpose?\n",
    "Users can seamlessly translate text to binary and binary to text."
   ]
  },
  {
   "cell_type": "markdown",
   "metadata": {},
   "source": [
    "## Binary Quiz\n",
    "\n",
    "> A quiz will be provided for the user. It will include questions about binary, such as the binary function which matches the number, and vice versa. This can help improve the user's knowledge and usage of binary.\n",
    "\n",
    "- some features of the game\n",
    "    - grading system: there will be a system which will calculate your grade percentage (x/100%)\n",
    "    - it will tell the user if the question is incorrect, but won't tell the user if it is correct, just in case they want to re-take the quiz.\n",
    "\n",
    "> Purpose of the feature?\n",
    "Users will be able to access this quiz at anytime to improve their knowledge about binary, which can also help with the rest of our mini-arcade.\n",
    "\n",
    "> How does it teach binary?\n",
    "Users will use their previous knowledge of binary and use them in a simple 10 question quiz, or split into a 5 question pre-test and a 5 question final/post-test. They have infinite attempts and can take as much time as they want. This is for the users to learn more about binary and understand how it works, not just get a 100%. The understanding of binary knowledge could again help them further in our group's mini arcade. There could possibly a pre-test and a post-test. The pre-test will be easier as ig will introduce the users to binary, but the post test could potentially test their binary skills after doing the pre test and going through our whole binary arcade. This will also encourage the user to focus and understand, so they can ace the pre and post test!"
   ]
  },
  {
   "cell_type": "markdown",
   "metadata": {},
   "source": [
    "## Binary Memory Game\n",
    ">  A set of cards laid face down. Each card has a binary number/combo on its other side. The objective is to find matching pairs of cards. \n",
    "- Create a list to represent the game board. \n",
    "- Players choose two cards per turn. This could be done through input commands where players selects a card to flip. \n",
    "- If the cards match, will display a matching message, if the card don't match will display a error message. \n",
    "- Game ends when all cards are matched.\n",
    "> Game purpose: Get the player familiar with binary logic terms/number combination that are commonly used. \n",
    "\n",
    "Things to add: \n",
    "Cards ( using a list )\n",
    "Point system( create a loop, everything matching message is displayed, 1 point gets added )\n",
    "Timer ( time module with phython )\n",
    "\n",
    "<img src=\"https://github.com/alishahussain/team2/assets/142547044/78d60e13-1776-4a87-b35c-cb83e0181cdb\">"
   ]
  }
 ],
 "metadata": {
  "kernelspec": {
   "display_name": "Python 3",
   "language": "python",
   "name": "python3"
  },
  "language_info": {
   "codemirror_mode": {
    "name": "ipython",
    "version": 3
   },
   "file_extension": ".py",
   "mimetype": "text/x-python",
   "name": "python",
   "nbconvert_exporter": "python",
   "pygments_lexer": "ipython3",
   "version": "3.12.0"
  },
  "orig_nbformat": 4
 },
 "nbformat": 4,
 "nbformat_minor": 2
}
