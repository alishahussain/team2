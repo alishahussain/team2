{
 "cells": [
  {
   "cell_type": "markdown",
   "metadata": {},
   "source": [
    "---\n",
    "layout: post\n",
    "toc: true\n",
    "title: Digital Divide Team Teach\n",
    "description: This is our team teach for digital divide\n",
    "courses: { csp: {week: 13} }\n",
    "categories: []\n",
    "type: ccc\n",
    "---"
   ]
  },
  {
   "cell_type": "markdown",
   "metadata": {},
   "source": [
    "# Digital Divide\n",
    "\n",
    "IOC - 1.C.1\n",
    "Internet access varies between socioeconomic, geographic, and demographic characteristics, as well as between countries.\n",
    "\n",
    "IOC - 1.C.2\n",
    "The \"digital divide\" refers to differing access to computing devices and the Internet, based on socioeconomic, geographic, or demographic characteristics.\n",
    "\n",
    "IOC-1.C.3\n",
    "The digital divide can affect both groups and individuals.\n",
    "\n",
    "IOC-1.C.4\n",
    "The digital divide raises issues of equity, access, and influence, both globally and locally.\n",
    "\n",
    "IOC-1.C.5\n",
    "The digital divide is affected by the actions of individuals, organizations, and governments.\n",
    "\n",
    "In some countries:\n",
    "• Computers are not that common in rural areas\n",
    "Only a small number of websites\n",
    "The internet is used to protect and advocate the government\n",
    "There is a high level of surveillance on the internet to protect the government\n",
    "\n",
    "In essence, the digital divide is the gap between those who have access to modern information and communication technology (ICT) resources, such as the internet and digital devices, and those who do not. This gap can exist on various levels, including access to hardware and infrastructure, internet connectivity, digital skills, and the ability to use and benefit from digital technologies. The digital divide can contribute to social and economic inequalities, limiting opportunities for those who are digitally marginalized and hindering their ability to participate fully in the increasingly digitalized world. \n",
    "\n",
    "Efforts to bridge the digital divide often involve initiatives to improve infrastructure, provide affordable access, and enhance digital literacy skills.\n"
   ]
  },
  {
   "cell_type": "markdown",
   "metadata": {},
   "source": [
    "# Homework\n",
    "\n",
    "Read over the following article to review the Digital Divide and answer the following questions.\n",
    "\n",
    "![Stanford Digital Divide Article](https://cs.stanford.edu/people/eroberts/cs181/projects/digital-divide/start.html)\n",
    "\n",
    "1. Define the Digital Divide in your own words.\n",
    "\n",
    "2. Fill in the blanks. \"It has been observed that households earning incomes over _______ are __ times more likely to have home internet access than those at lowest income levels and __ times more likely to have a computer if living in the ____ or ________ area than in the _____ area.\" \n",
    "\n",
    "3. How many times more likely are white households to use the internet than a hispacic household?\n",
    "\n",
    "4. (Open Ended) Why is equal access to the internet important?\n",
    "\n",
    "5. (Open Ended) How has the Digital Divide affected you or someone you know? How can you help bridge the Digital Divide?"
   ]
  }
 ],
 "metadata": {
  "language_info": {
   "name": "python"
  },
  "orig_nbformat": 4
 },
 "nbformat": 4,
 "nbformat_minor": 2
}
