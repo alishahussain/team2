{
 "cells": [
  {
   "cell_type": "markdown",
   "metadata": {},
   "source": [
    "---\n",
    "layout: post\n",
    "toc: true\n",
    "title: Digital Divide Team Teach\n",
    "description: This is our team teach for digital divide\n",
    "courses: { csp: {week: 13} }\n",
    "categories: []\n",
    "type: ccc\n",
    "---"
   ]
  },
  {
   "cell_type": "markdown",
   "metadata": {},
   "source": [
    "## Digital Divide\n",
    "\n",
    "# Internet access varies between socioeconomic, geographic, and demographic characteristics, as well as between countries.\n",
    "(IOC-1.C.1 + IOC-1.C.2)\n",
    "\n",
    "Socioeconomic Variation: Access to the Internet is not uniform across economic status groups. Individuals with higher socioeconomic status may have better access to the internet compared to others.\n",
    "\n",
    "Geographic Variation: The availability and quality of internet infrastructure can vary geographically. Urban areas generally have better internet infrastructure than rural areas. Remote or underdeveloped regions may face challenges in accessing the internet.\n",
    "\n",
    "Demographic Variation: Internet access can differ based on demographic factors such as age, education level, and occupation. Younger, more educated individuals might have better or easier access compared to older individuals or those with a lower education.\n",
    "\n",
    "International Disparities: There are significant differences in internet access between countries. Developed nations often have widespread internet infrastructure compared to developing or underdeveloped countries.\n",
    "\n",
    "# The digital divide raises issues of equity, access, and influence, both globally and locally.\n",
    "(IOC-1.C.4)\n",
    "\n",
    "Equity Issues: The digital divide contributes to inequities, as certain groups or individuals may be systematically disadvantaged in terms of opportunities, resources, and benefits derived from digital technologies.\n",
    "\n",
    "Access Challenges: Limited access to the internet and digital devices raises concerns about fair and equal opportunities for education, employment, healthcare, and social participation.\n",
    "\n",
    "Influence Considerations: The divide extends beyond mere access, impacting the ability of individuals or groups to influence and engage in the digital realm. Those with limited access may find it difficult to have their voices heard in an increasingly digital world.\n",
    "\n",
    "# The digital divide can impact both individuals and groups, the actions of individuals, organizations, and governments can influence the digital divide.\n",
    "(IOC-1.C.3 + IOC-1.C.5)\n",
    "\n",
    "Group Impact: Entire demographic groups or communities may experience limited access to digital resources, impacting their ability to participate in the digital economy, education, and social activities. This can perpetuate existing inequalities.\n",
    "\n",
    "Individual Effect: The digital divide affects the opportunities and capabilities of an individual on multiple levels. Those with limited access to the web may face challenges in acquiring digital skills, accessing information, and participating in online communication, which can hinder personal and professional development. Additionally, the choices individuals make may contribute to the digital divide. Actions such as purchasing digital devices or subscribing to internet services may indirectly be contributing to its growth.\n",
    "\n",
    "Organizational and Government Impact: Companies, organizations, and governments play a role in shaping the digital landscape. This includes certain business practices including the deployment of infrastructure and the design of digital products. Government policies or initiatives, including investment in digital infrastructure and literacy programs, have a considerable weight to bridge or exacerbate existing disparities.\n",
    "\n",
    "---\n",
    "\n",
    "\n",
    "* The digital divide is the gap between those who have access to modern information and communication technology (ICT) resources, such as the internet and digital devices, and those who do not. This gap can exist on various levels, including access to hardware and infrastructure, internet connectivity, digital skills, and the ability to use and benefit from digital technologies. The digital divide can contribute to social and economic inequalities, limiting opportunities for those who are digitally marginalized and hindering their ability to participate fully in the increasingly digitalized world. "
   ]
  },
  {
   "cell_type": "markdown",
   "metadata": {},
   "source": [
    "# Homework\n",
    "\n",
    "To review the Digital Divide please read the provide article and watch the college board digital divide video and answer the following questions.\n",
    "\n",
    "![Stanford Digital Divide Article](https://cs.stanford.edu/people/eroberts/cs181/projects/digital-divide/start.html)\n",
    "\n",
    "![Digital Divide College Board Video](https://apclassroom.collegeboard.org/103/home?apd=acc49kj2ma&unit=5)\n",
    "\n",
    "1. Define the Digital Divide in your own words.\n",
    "\n",
    "2. Fill in the blanks. \"It has been observed that households earning incomes over _______ are __ times more likely to have home internet access than those at lowest income levels and __ times more likely to have a computer if living in the ____ or ________ area than in the _____ area.\" \n",
    "\n",
    "3. How many times more likely are white households to use the internet than a hispacic household?\n",
    "\n",
    "4. (Open Ended) Why is equal access to the internet important?\n",
    "\n",
    "5. (Open Ended) How has the Digital Divide affected you or someone you know? How can you help bridge the Digital Divide?"
   ]
  }
 ],
 "metadata": {
  "language_info": {
   "name": "python"
  },
  "orig_nbformat": 4
 },
 "nbformat": 4,
 "nbformat_minor": 2
}
