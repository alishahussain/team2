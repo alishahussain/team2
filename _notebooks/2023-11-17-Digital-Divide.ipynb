{
 "cells": [
  {
   "cell_type": "markdown",
   "metadata": {},
   "source": [
    "---\n",
    "layout: post\n",
    "toc: true\n",
    "title: Digital Divide Team Teach\n",
    "description: Abdullah, Anika, Alisha, Sergi, Vance.\n",
    "courses: { csp: {week: 13} }\n",
    "categories: []\n",
    "type: ccc\n",
    "---"
   ]
  },
  {
   "cell_type": "markdown",
   "metadata": {},
   "source": [
    "## Digital Divide\n",
    "\n",
    "The digital divide is the gap between those who have access to modern information and communication technology (ICT) resources, such as the internet and digital devices, and those who do not.\n",
    "\n",
    "---\n",
    "\n",
    "## Internet access varies between socioeconomic, geographic, and demographic characteristics, as well as between countries.\n",
    "(IOC-1.C.1 + IOC-1.C.2)\n",
    "\n",
    "* Socioeconomic Variation: Access to the Internet is not uniform across economic status groups. Individuals with higher socioeconomic status may have better access to the internet compared to others.\n",
    "\n",
    "* Demographic Variation: Internet access can differ based on demographic factors such as age, education level, and occupation. Younger, more educated individuals might have better or easier access compared to older individuals or those with a lower education.\n",
    "\n",
    "![]({{site.baseurl}}/images/demographic.jpg)\n",
    "\n",
    "* International Disparities: Developed nations often have widespread internet infrastructure compared to developing or underdeveloped countries. Countries with mountainous or other rough terrain might have difficulties providing internet. Additionally, urban areas generally have better internet infrastructure than rural areas. Remote or underdeveloped regions may face challenges in accessing the internet."
   ]
  },
  {
   "cell_type": "markdown",
   "metadata": {},
   "source": [
    "## Popcorn Hack 1\n",
    "\n",
    "How might age, education level, or occupation affect someone's ability to access the internet?"
   ]
  },
  {
   "cell_type": "markdown",
   "metadata": {},
   "source": [
    "## The digital divide can have a huge impact on society\n",
    "(IOC-1.C.4)\n",
    "### Digital divide raises multiple beneficial and detrimental aspects:\n",
    "\n",
    "* Equity Issues: Due to digital divide, certain groups or individuals may be systematically disadvantaged in terms of opportunities, resources, and benefits derived from digital technologies.\n",
    "\n",
    "* Access Challenges: Limited access to the internet and digital devices raises concerns about fair and equal opportunities for education, employment, healthcare, and social participation in our modern societies. \n",
    "\n",
    "* Influence Considerations: The divide extends beyond mere access, impacting the ability of individuals or groups to influence and engage in the increasingly digital world. As this technology develops more quickly, those without access are left behind faster. Students without internet access fall behind their peers in school. Then, as other students keep learning, it becomes harder and harder to catch up.\n",
    "\n",
    "![]({{site.baseurl}}/images/systematic.jpg)\n"
   ]
  },
  {
   "cell_type": "markdown",
   "metadata": {},
   "source": [
    "## Popcorn Hack 2\n",
    "\n",
    "Imagine you are an exchange student from another country visiting our community, you have grown up without using the internet and now you go to Del Norte. State 2-3 reasons you might be at a disadvantage to other students your age."
   ]
  },
  {
   "cell_type": "markdown",
   "metadata": {},
   "source": [
    "\n",
    "### The digital divide can be positively and negatively influnced by both individuals and groups.\n",
    "(IOC-1.C.3 + IOC-1.C.5)\n",
    "\n",
    "* Group Impact: Entire demographic groups or communities may experience limited access to digital resources, impacting their ability to participate in the digital economy, education, and social activities. This can perpetuate existing inequalities. However, groups can work to bridge the digital divide through humanitarian efforts.\n",
    "\n",
    "* Individual Effect: Those with limited access to the web may face challenges in acquiring digital skills, accessing information, and participating in online communication, which can hinder personal and professional development. Additionally, the choices individuals make may contribute to the digital divide. Actions such as purchasing digital devices or subscribing to internet services may indirectly be contributing to its growth.\n",
    "\n",
    "* Organizational and Government Impact: Companies, organizations, and governments play a role in shaping the digital landscape. This includes certain business practices including the deployment of infrastructure and the design of digital products. Government policies or initiatives, including investment in digital infrastructure and literacy programs, have a considerable weight to bridge or exacerbate existing disparities.\n",
    "\n",
    "![]({{site.baseurl}}/images/benefits.jpg)\n"
   ]
  },
  {
   "cell_type": "markdown",
   "metadata": {},
   "source": [
    "## Popcorn Hack 3\n",
    "\n",
    "Using the provided graphic and what you have just learned, pick one country that is heavily impacted by the digital divide, and give three reasons why that might be. \n",
    "\n",
    "![]({{site.baseurl}}/images/pophack3.png)\n",
    "\n",
    "---"
   ]
  },
  {
   "cell_type": "markdown",
   "metadata": {},
   "source": [
    "# Homework\n",
    "\n",
    "To review the Digital Divide please read the provide article and watch the college board digital divide video and answer fill out the google form questions. \n",
    "\n",
    "<a href=\"https://cs.stanford.edu/people/eroberts/cs181/projects/digital-divide/start.html\">Stanford Article</a>\n",
    "\n",
    "<a href=\"https://apclassroom.collegeboard.org/103/home?apd=acc49kj2ma&unit=5\">College Board Video</a>\n",
    "\n",
    "<a href=\"https://docs.google.com/forms/d/e/1FAIpQLSctiLGmlzRIRIwvQgNvQcztMYVr7sRiYUJAsu9ZoYe0Oc89aA/viewform?usp=sf_link\">Link to Homework Quiz</a>"
   ]
  }
 ],
 "metadata": {
  "language_info": {
   "name": "python"
  },
  "orig_nbformat": 4
 },
 "nbformat": 4,
 "nbformat_minor": 2
}
