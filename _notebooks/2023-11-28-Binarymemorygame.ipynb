{
 "cells": [
  {
   "cell_type": "markdown",
   "metadata": {},
   "source": [
    "---\n",
    "layout: post\n",
    "toc: true\n",
    "title: Binary Memory Game \n",
    "description: This is the Binary Memory game feature\n",
    "courses: { csp: {week: 14} }\n",
    "categories: []\n",
    "permalink: binary memory game\n",
    "type: ccc\n",
    "---"
   ]
  },
  {
   "cell_type": "code",
   "execution_count": 1,
   "metadata": {},
   "outputs": [
    {
     "name": "stdout",
     "output_type": "stream",
     "text": [
      "No match.\n",
      "No match.\n",
      "No match.\n",
      "No match.\n",
      "No match.\n",
      "No match.\n"
     ]
    },
    {
     "ename": "",
     "evalue": "",
     "output_type": "error",
     "traceback": [
      "\u001b[1;31mThe Kernel crashed while executing code in the the current cell or a previous cell. Please review the code in the cell(s) to identify a possible cause of the failure. Click <a href='https://aka.ms/vscodeJupyterKernelCrash'>here</a> for more info. View Jupyter <a href='command:jupyter.viewOutput'>log</a> for further details."
     ]
    }
   ],
   "source": [
    "import tkinter as tk\n",
    "import random\n",
    "\n",
    "def reveal_card(index):\n",
    "    if cards_revealed[index] or index in selected_cards:\n",
    "        return\n",
    "    canvas.itemconfig(rects[index], fill=\"white\")\n",
    "    canvas.itemconfig(texts[index], text=cards[index])\n",
    "    selected_cards.append(index)\n",
    "    if len(selected_cards) == 2:\n",
    "        canvas.after(500, check_match)  # Brief pause before checking for a match\n",
    "\n",
    "def check_match():\n",
    "    idx1, idx2 = selected_cards[0], selected_cards[1]\n",
    "    if cards[idx1] == cards[idx2]:\n",
    "        print(\"Match found!\")\n",
    "        for idx in selected_cards:\n",
    "            cards_revealed[idx] = True  # Keep matched cards revealed\n",
    "    else:\n",
    "        print(\"No match.\")\n",
    "        canvas.after(1000, hide_cards)  # Hide unmatched cards after a delay\n",
    "\n",
    "def hide_cards():\n",
    "    for idx in selected_cards:\n",
    "        if not cards_revealed[idx]:  # Only hide cards that are not matched\n",
    "            canvas.itemconfig(rects[idx], fill=\"blue\")\n",
    "            canvas.itemconfig(texts[idx], text=\"\")\n",
    "    selected_cards.clear()\n",
    "\n",
    "# Generate binary numbers and create pairs\n",
    "binary_numbers = [format(i, '04b') for i in range(8)]  # Binary numbers 0000 to 0111\n",
    "cards = binary_numbers * 2  # Two of each number\n",
    "random.shuffle(cards)  # Shuffle the cards\n",
    "\n",
    "# Setup the game\n",
    "root = tk.Tk()\n",
    "root.title(\"Binary Memory Game\")\n",
    "canvas = tk.Canvas(root, width=400, height=400)\n",
    "canvas.pack()\n",
    "\n",
    "cards_revealed = [False] * 16  # Track which cards have been revealed\n",
    "selected_cards = []  # Track the currently selected cards\n",
    "\n",
    "# Create rectangles and text for cards\n",
    "rects = []\n",
    "texts = []\n",
    "for i in range(16):\n",
    "    row, col = divmod(i, 4)\n",
    "    rect = canvas.create_rectangle(5 + 100 * col, 5 + 100 * row, 95 + 100 * col, 95 + 100 * row, fill=\"blue\")\n",
    "    text = canvas.create_text(50 + 100 * col, 50 + 100 * row, text=\"\", font=(\"Arial\", 20))\n",
    "    rects.append(rect)\n",
    "    texts.append(text)\n",
    "    canvas.tag_bind(rect, \"<Button-1>\", lambda event, index=i: reveal_card(index))\n",
    "\n",
    "root.mainloop()\n",
    "\n"
   ]
  }
 ],
 "metadata": {
  "kernelspec": {
   "display_name": "Python 3",
   "language": "python",
   "name": "python3"
  },
  "language_info": {
   "codemirror_mode": {
    "name": "ipython",
    "version": 3
   },
   "file_extension": ".py",
   "mimetype": "text/x-python",
   "name": "python",
   "nbconvert_exporter": "python",
   "pygments_lexer": "ipython3",
   "version": "3.10.5"
  },
  "orig_nbformat": 4
 },
 "nbformat": 4,
 "nbformat_minor": 2
}
